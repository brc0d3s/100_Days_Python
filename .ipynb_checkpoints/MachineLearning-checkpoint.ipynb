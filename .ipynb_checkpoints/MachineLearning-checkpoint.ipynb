{
 "cells": [
  {
   "cell_type": "markdown",
   "id": "16c690e0-0424-4983-b142-9e812f7091ab",
   "metadata": {},
   "source": [
    "# Machine Learning"
   ]
  },
  {
   "cell_type": "raw",
   "id": "c1035916-3629-486d-a2de-2dde602a482f",
   "metadata": {},
   "source": [
    "Machine Learning is making the computer learn from studying data and statistics.\n",
    "\n",
    "Machine Learning is a step into the direction of artificial intelligence (AI).\n",
    "\n",
    "Machine Learning is a program that analyses data and learns to predict the outcome."
   ]
  },
  {
   "cell_type": "markdown",
   "id": "3b1ef086-42e1-4293-9531-354150da5bc8",
   "metadata": {},
   "source": [
    "# Regression"
   ]
  },
  {
   "cell_type": "raw",
   "id": "18b3389a-f833-49ef-ac50-1f76d4619df5",
   "metadata": {},
   "source": [
    "The term regression is used when you try to find the relationship between variables.\n",
    "In data analysis, and in statistical modeling, that relationship is used to predict the outcome of future\n",
    "events.\n",
    "Python is used in exploring many different types of data. You will learn how to prepare data for analysis,\n",
    "perform simple statistical analysis, create meaningful data visualizations, and predict future trends from\n",
    "data."
   ]
  },
  {
   "cell_type": "markdown",
   "id": "5e620197-e17f-4821-8982-847ffe99fee1",
   "metadata": {},
   "source": [
    "## Linear Regression"
   ]
  },
  {
   "cell_type": "raw",
   "id": "7240cb95-0d98-4878-86a3-619a33232473",
   "metadata": {},
   "source": [
    "Linear regression uses the relationship between the data-points to draw a straight line through all them."
   ]
  },
  {
   "cell_type": "markdown",
   "id": "07bbba31-0ee2-44e2-bd98-a6e0d5379c3f",
   "metadata": {},
   "source": [
    "### How Does it Work?"
   ]
  },
  {
   "cell_type": "raw",
   "id": "87459b92-af42-41a4-aea2-26ea12e23f05",
   "metadata": {},
   "source": [
    "Python has methods for finding a relationship between data-points and to draw a line of linear\n",
    "regression.\n",
    "In the example below, the x-axis represents age, and the y-axis represents speed. We have registered\n",
    "the age and speed of 13 cars as they were passing a tollbooth. Let us see if the data we collected could\n",
    "be used in a linear regression:"
   ]
  },
  {
   "cell_type": "markdown",
   "id": "e5069960-8a4b-4075-a0b9-2f195a805e61",
   "metadata": {},
   "source": [
    "# Data Types"
   ]
  },
  {
   "cell_type": "raw",
   "id": "abbcc3df-30b8-4985-ba19-ffcf9c7b4480",
   "metadata": {},
   "source": [
    "We can split the data types into three main categories:\n",
    "    Numerical\n",
    "    Categorical\n",
    "    Ordinal\n",
    "\n",
    "Numerical data are numbers, and can be split into two numerical categories:\n",
    "    Discrete Data\n",
    "    - counted data that are limited to integers. Example: The number of cars passing by.\n",
    "    Continuous Data\n",
    "    - measured data that can be any number. Example: The price of an item, or the size of an item\n",
    "\n",
    "Categorical data are values that cannot be measured up against each other. Example: a color value, or any yes/no values.\n",
    "\n",
    "Ordinal data are like categorical data, but can be measured up against each other. Example: school grades where A is better than B and so on."
   ]
  },
  {
   "cell_type": "markdown",
   "id": "a338e7e1-ccd6-432f-9423-dd3ef5452849",
   "metadata": {},
   "source": [
    "# Mean Median Mode"
   ]
  },
  {
   "cell_type": "raw",
   "id": "3d42139a-65c8-4a92-8308-6ac150b4f93d",
   "metadata": {},
   "source": [
    "Mean - The average value\n",
    "Median - The mid point value\n",
    "Mode - The most common value"
   ]
  },
  {
   "cell_type": "code",
   "execution_count": 9,
   "id": "4b128ff6-3cf3-4a6e-9870-19904072dfc0",
   "metadata": {},
   "outputs": [
    {
     "name": "stdout",
     "output_type": "stream",
     "text": [
      "43.142857142857146\n"
     ]
    }
   ],
   "source": [
    "import numpy as np\n",
    "\n",
    "speeds = [44,56,78,23,45,12,44]\n",
    "\n",
    "print(np.mean(speeds))"
   ]
  },
  {
   "cell_type": "code",
   "execution_count": 10,
   "id": "e739f359-e685-4649-bf39-7b1d1afe4b5f",
   "metadata": {},
   "outputs": [
    {
     "name": "stdout",
     "output_type": "stream",
     "text": [
      "44.0\n"
     ]
    }
   ],
   "source": [
    "print(np.median(speeds))"
   ]
  },
  {
   "cell_type": "code",
   "execution_count": 12,
   "id": "5ef9656b-8869-414a-8199-686e00cb81de",
   "metadata": {},
   "outputs": [
    {
     "name": "stdout",
     "output_type": "stream",
     "text": [
      "ModeResult(mode=np.int64(44), count=np.int64(2))\n"
     ]
    }
   ],
   "source": [
    "from scipy import stats\n",
    "\n",
    "print(stats.mode(speeds))"
   ]
  },
  {
   "cell_type": "markdown",
   "id": "afeec86c-0cb0-4bf6-a282-163e25508c5a",
   "metadata": {},
   "source": [
    "# Standard Deviation"
   ]
  },
  {
   "cell_type": "raw",
   "id": "df8dc5a2-b1ef-484e-91a9-e93dd3c8feca",
   "metadata": {},
   "source": [
    "What is Standard Deviation?\n",
    "Standard deviation is a number that describes how spread out the values are.\n",
    "\n",
    "A low standard deviation means that most of the numbers are close to the mean (average) value.\n",
    "\n",
    "A high standard deviation means that the values are spread out over a wider range."
   ]
  },
  {
   "cell_type": "code",
   "execution_count": 14,
   "id": "c76278a0-e7ee-49ff-bf76-461b4a70b89c",
   "metadata": {},
   "outputs": [
    {
     "name": "stdout",
     "output_type": "stream",
     "text": [
      "19.85971206400803\n"
     ]
    }
   ],
   "source": [
    "import numpy as nm\n",
    "\n",
    "print(nm.std(speeds))"
   ]
  },
  {
   "cell_type": "raw",
   "id": "1deb142e-bc82-4a44-86ef-a08aae7b57f3",
   "metadata": {},
   "source": [
    "Variance\n",
    "Variance is another number that indicates how spread out the values are.\n",
    "\n",
    "In fact, if you take the square root of the variance, you get the standard deviation!\n",
    "\n",
    "Or the other way around, if you multiply the standard deviation by itself, you get the variance!"
   ]
  },
  {
   "cell_type": "code",
   "execution_count": 15,
   "id": "b65e08f4-2081-4119-9494-8b4d3ebef730",
   "metadata": {},
   "outputs": [
    {
     "name": "stdout",
     "output_type": "stream",
     "text": [
      "394.4081632653061\n"
     ]
    }
   ],
   "source": [
    "print(nm.var(speeds))"
   ]
  },
  {
   "cell_type": "raw",
   "id": "d31cf2bb-55a5-4758-ab8f-294ab335b938",
   "metadata": {},
   "source": [
    "Symbols\n",
    "Standard Deviation is often represented by the symbol Sigma: σ\n",
    "\n",
    "Variance is often represented by the symbol Sigma Squared: σ2"
   ]
  },
  {
   "cell_type": "markdown",
   "id": "79bca043-f31d-4486-b4b2-0fa9e9e7ec9d",
   "metadata": {},
   "source": [
    "# Percentiles"
   ]
  },
  {
   "cell_type": "raw",
   "id": "953258f2-8326-426b-8acc-24d47519806f",
   "metadata": {},
   "source": [
    "What are Percentiles?\n",
    "Percentiles are used in statistics to give you a number that describes the value that a given percent of the values are lower than."
   ]
  },
  {
   "cell_type": "code",
   "execution_count": 18,
   "id": "8a0b6526-f882-4fe5-8670-d1c12e78848d",
   "metadata": {},
   "outputs": [
    {
     "name": "stdout",
     "output_type": "stream",
     "text": [
      "50.5\n"
     ]
    }
   ],
   "source": [
    "# What is the 75. percentile?\n",
    "\n",
    "print(nm.percentile(speeds,75))"
   ]
  },
  {
   "cell_type": "markdown",
   "id": "7fc32a56-933c-4e8e-8f3d-e04cdc8996bc",
   "metadata": {},
   "source": [
    "# Data Distribution"
   ]
  },
  {
   "cell_type": "raw",
   "id": "2a67c47e-ee71-4169-947b-1c3e7f05e0d1",
   "metadata": {},
   "source": [
    "In the real world, the data sets are much bigger, but it can be difficult to gather real world data, at least at an early stage of a project.\n",
    "\n",
    "How Can we Get Big Data Sets?\n",
    "To create big data sets for testing, we use the Python module NumPy, which comes with a number of methods to create random data sets, of any size."
   ]
  },
  {
   "cell_type": "code",
   "execution_count": 19,
   "id": "be4bbfd3-55cc-4607-aa7b-da8025ba7963",
   "metadata": {},
   "outputs": [
    {
     "name": "stdout",
     "output_type": "stream",
     "text": [
      "[2.93746885 4.48102082 4.53556939 1.21406296 4.68035874 2.40310778\n",
      " 4.45154044 3.37948776 1.9443971  1.54498053 3.90980414 2.46147072\n",
      " 0.13177779 1.99299233 2.32510511 2.78923699 1.5910955  3.65821522\n",
      " 0.88340907 4.82451771 3.9720494  1.31892925 1.6526806  1.06779448\n",
      " 4.26420442 4.81445063 1.77319964 0.49907603 0.91080005 3.55811379\n",
      " 0.32447621 1.49126082 3.56428631 3.35807835 4.08354415 4.17674311\n",
      " 3.55597727 1.89018101 2.73335395 4.09410815 3.13379149 1.34918942\n",
      " 3.92950967 2.64425395 1.77043372 4.67750627 1.04120355 2.15481016\n",
      " 0.32066904 3.1669235  0.04001027 0.03788445 2.70138418 1.82331014\n",
      " 3.7034622  3.22901708 3.29851685 3.35678513 0.70765386 4.11963366\n",
      " 3.43766689 1.82016451 2.49100126 2.37224694 1.45189084 0.09956046\n",
      " 2.0397406  3.30172966 2.63292025 1.43660942 3.48057811 4.54038058\n",
      " 0.92457806 2.59278488 3.33853156 4.43394893 0.27032226 2.41445796\n",
      " 0.5269706  2.76373222 3.61014381 3.00685169 1.46484895 0.9719823\n",
      " 2.56364914 4.69093894 3.24299799 1.4699012  1.38948948 0.6014984\n",
      " 0.05238733 0.51208153 3.25080703 2.19704372 2.88389841 2.84721195\n",
      " 0.21671018 3.83106241 3.35486068 3.28770256 3.79986893 2.92726764\n",
      " 1.60367328 4.15318106 3.01565406 3.79029077 2.35801859 3.81265738\n",
      " 0.87194333 3.90217467 0.25604452 1.42344013 3.47035043 4.74146151\n",
      " 1.26120352 2.96768792 1.29123837 0.48736451 3.96468037 4.94105576\n",
      " 0.10022096 1.30357105 3.07754486 4.69369298 2.87451173 4.84769504\n",
      " 0.84916661 3.4963391  0.96980266 0.78039792 1.56432091 2.64284379\n",
      " 0.98881766 0.96360524 2.79944227 1.11155481 4.61533531 0.84186113\n",
      " 1.52226409 1.30286807 4.14257794 1.43156988 4.31303618 1.68594753\n",
      " 4.36350637 4.68865834 3.08822208 0.0063123  3.62889398 1.56305681\n",
      " 0.25167122 1.27704618 3.76496902 4.2416487  1.55718666 4.32257588\n",
      " 1.25902668 4.91874672 2.5218851  3.98317875 1.52761174 4.44587543\n",
      " 4.40591743 1.19268965 3.68404159 4.19981463 1.17295832 0.54210193\n",
      " 4.16622662 1.39154904 4.62787243 4.73379612 1.6856057  4.1731795\n",
      " 0.43692697 0.78120721 3.32439105 0.52869679 1.49341345 0.88461839\n",
      " 3.92033667 3.42748936 0.27004097 3.95508989 2.81176034 2.59901019\n",
      " 0.88036579 4.25440101 0.17031568 1.04693593 0.44151849 3.94050615\n",
      " 2.67916478 2.60008264 4.41795879 0.71390374 1.25861219 4.41740507\n",
      " 2.99667346 0.24050053 2.67923873 2.73185072 0.82018219 3.36057594\n",
      " 1.60913722 4.33673229 0.49031813 4.23126993 4.80266774 1.17940635\n",
      " 3.22450786 4.77168729 1.80723015 1.68728649 0.70296612 1.51738239\n",
      " 0.71403016 2.86140405 0.62785977 4.9561147  3.92600953 1.17697753\n",
      " 4.20702819 2.91620878 3.72647583 4.42768865 4.0298943  0.23366739\n",
      " 4.72985312 0.95301482 4.5733601  1.59395751 2.78795384 2.33502865\n",
      " 4.31486912 3.89683893 2.57251097 1.7329585  0.84340604 4.42850271\n",
      " 1.52459257 4.03876458 2.39945478 0.67499851 3.54392743 2.74294437\n",
      " 3.73798941 2.11771052 2.29082791 2.74343404]\n"
     ]
    }
   ],
   "source": [
    "# Create an array containing 250 random floats between 0 and 5:\n",
    "\n",
    "print(nm.random.uniform(0.0,5.0,250))"
   ]
  },
  {
   "cell_type": "markdown",
   "id": "8d8c4bdb-5f3e-417e-826f-8a8812de17c0",
   "metadata": {},
   "source": [
    "### Histogram"
   ]
  },
  {
   "cell_type": "code",
   "execution_count": 20,
   "id": "457f0acc-0ae9-4348-977c-4d1e6d6b6bb1",
   "metadata": {},
   "outputs": [
    {
     "data": {
      "image/png": "[encoded data removed]",
      "text/plain": [
       "<Figure size 640x480 with 1 Axes>"
      ]
     },
     "metadata": {},
     "output_type": "display_data"
    }
   ],
   "source": [
    "import matplotlib.pyplot as plt\n",
    "\n",
    "\n",
    "x = nm.random.uniform(0.0,5.9,200)\n",
    "\n",
    "plt.title(\"Test Table\")\n",
    "plt.xlabel(\"X axis\")\n",
    "plt.ylabel(\"Y axis\")\n",
    "\n",
    "plt.hist(x,5)\n",
    "plt.show()\n"
   ]
  },
  {
   "cell_type": "markdown",
   "id": "70302053-f5dd-4b8a-a1b8-81051b398edb",
   "metadata": {},
   "source": [
    "# Normal Data Distribution"
   ]
  },
  {
   "cell_type": "code",
   "execution_count": null,
   "id": "bb48f3c1-990f-4b0f-8f4a-4511be9167be",
   "metadata": {},
   "outputs": [],
   "source": []
  }
 ],
 "metadata": {
  "kernelspec": {
   "display_name": "Python 3 (ipykernel)",
   "language": "python",
   "name": "python3"
  },
  "language_info": {
   "codemirror_mode": {
    "name": "ipython",
    "version": 3
   },
   "file_extension": ".py",
   "mimetype": "text/x-python",
   "name": "python",
   "nbconvert_exporter": "python",
   "pygments_lexer": "ipython3",
   "version": "3.10.0"
  }
 },
 "nbformat": 4,
 "nbformat_minor": 5
}
