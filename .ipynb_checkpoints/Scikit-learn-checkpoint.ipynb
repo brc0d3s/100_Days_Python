{
 "cells": [
  {
   "cell_type": "markdown",
   "id": "0d6dfea5-0d40-45f9-ab9b-b2285f12fc54",
   "metadata": {},
   "source": [
    "# Scikit-learn"
   ]
  },
  {
   "cell_type": "raw",
   "id": "a1c10dc0-0ac4-4786-ac9f-46e6dae628d4",
   "metadata": {},
   "source": [
    "Scikit-learn (Sklearn) is the most useful and robust library for machine learning in Python. \n",
    "It provides a selection of efficient tools for machine learning and statistical modeling including classification,\n",
    "Regression, clustering and dimensionality reduction via a consistence interface in Python. \n",
    "This library,which is largely written in Python, is built upon NumPy, SciPy and Matplotlib."
   ]
  }
 ],
 "metadata": {
  "kernelspec": {
   "display_name": "Python 3 (ipykernel)",
   "language": "python",
   "name": "python3"
  },
  "language_info": {
   "codemirror_mode": {
    "name": "ipython",
    "version": 3
   },
   "file_extension": ".py",
   "mimetype": "text/x-python",
   "name": "python",
   "nbconvert_exporter": "python",
   "pygments_lexer": "ipython3",
   "version": "3.10.0"
  }
 },
 "nbformat": 4,
 "nbformat_minor": 5
}
