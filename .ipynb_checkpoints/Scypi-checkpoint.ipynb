{
 "cells": [
  {
   "cell_type": "markdown",
   "id": "4b49fb06-777c-4f7b-8e9e-3e10ba7bb9e0",
   "metadata": {},
   "source": [
    "# SciPy"
   ]
  },
  {
   "cell_type": "raw",
   "id": "ca83a110-da14-4280-baf3-62914421dbb7",
   "metadata": {},
   "source": [
    "SciPy is a scientific computation library that uses NumPy underneath. \n",
    "SciPy stands for Scientific Python.\n",
    "It provides more utility functions for optimization, stats and signal processing. \n",
    "Like NumPy, SciPy is open source so we can use it freely. \n",
    "SciPy was created by NumPy's creator Travis Olliphant.\n",
    "SciPy has optimized and added functions that are frequently used in NumPy and Data Science."
   ]
  },
  {
   "cell_type": "markdown",
   "id": "11e372c4-95b6-48c7-ad76-e016afe1c856",
   "metadata": {},
   "source": [
    "## Why Use SciPy?"
   ]
  },
  {
   "cell_type": "raw",
   "id": "bcaaa75b-72de-4b55-b9f3-cca2f48fec5d",
   "metadata": {},
   "source": [
    "If SciPy uses NumPy underneath, why can we not just use NumPy?\n",
    "\n",
    "SciPy has optimized and added functions that are frequently used in NumPy and Data Science."
   ]
  },
  {
   "cell_type": "code",
   "execution_count": 1,
   "id": "f3d83ec7-5fc0-46b6-88e7-e6d9b9094236",
   "metadata": {},
   "outputs": [],
   "source": [
    "from scipy import constants"
   ]
  },
  {
   "cell_type": "code",
   "execution_count": 6,
   "id": "43ce5281-c2bf-40f3-bd2a-7c4e93df2cfd",
   "metadata": {},
   "outputs": [
    {
     "name": "stdout",
     "output_type": "stream",
     "text": [
      "3.141592653589793\n"
     ]
    }
   ],
   "source": [
    "print(constants.pi)"
   ]
  },
  {
   "cell_type": "raw",
   "id": "2e838746-b2ff-45be-95c5-f538b861336d",
   "metadata": {},
   "source": [
    "constants: SciPy offers a set of mathematical constants, one of them is liter which returns 1 liter as cubic meters."
   ]
  },
  {
   "cell_type": "markdown",
   "id": "eab5b2b9-7631-46e6-9538-6e31880d1c21",
   "metadata": {},
   "source": [
    "# SciPy Optimizers"
   ]
  },
  {
   "cell_type": "raw",
   "id": "8a99c9fe-27e8-47b7-877b-4ccd5c845552",
   "metadata": {},
   "source": [
    "Optimizers in SciPy\n",
    "    Optimizers are a set of procedures defined in SciPy that either find the minimum value of a function, or the root of an equation.\n",
    "\n",
    "Optimizing Functions\n",
    "    Essentially, all of the algorithms in Machine Learning are nothing more than a complex equation that needs to be minimized with the help of given data.\n",
    "\n",
    "Roots of an Equation\n",
    "    NumPy is capable of finding roots for polynomials and linear equations, but it can not find roots for non linear equations, like this one:\n",
    "    \n",
    "    x + cos(x)\n",
    "    \n",
    "    For that you can use SciPy's optimize.root function.\n",
    "    \n",
    "    This function takes two required arguments:\n",
    "    \n",
    "    fun - a function representing an equation.\n",
    "    \n",
    "    x0 - an initial guess for the root.\n",
    "    \n",
    "    The function returns an object with information regarding the solution.\n",
    "    \n",
    "    The actual solution is given under attribute x of the returned object:"
   ]
  }
 ],
 "metadata": {
  "kernelspec": {
   "display_name": "Python 3 (ipykernel)",
   "language": "python",
   "name": "python3"
  },
  "language_info": {
   "codemirror_mode": {
    "name": "ipython",
    "version": 3
   },
   "file_extension": ".py",
   "mimetype": "text/x-python",
   "name": "python",
   "nbconvert_exporter": "python",
   "pygments_lexer": "ipython3",
   "version": "3.10.0"
  }
 },
 "nbformat": 4,
 "nbformat_minor": 5
}
