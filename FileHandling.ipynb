{
 "cells": [
  {
   "cell_type": "raw",
   "id": "9a1fefc7-ead1-4503-a44a-e65235acab91",
   "metadata": {},
   "source": [
    "There are four different methods (modes) for opening a file:\n",
    "\"r\" - Read - Default value. Opens a file for reading, error if the file does not exist\n",
    "\"a\" - Append - Opens a file for appending, creates the file if it does not exist\n",
    "\"w\" - Write - Opens a file for writing, creates the file if it does not exist\n",
    "\"x\" - Create - Creates the specified file, returns an error if the file exists\n",
    "In addition you can specify if the file should be handled as binary or text mode\n",
    "\"t\" - Text - Default value. Text mode\n",
    "\"b\" - Binary - Binary mode (e.g. images)\n"
   ]
  },
  {
   "cell_type": "code",
   "execution_count": 31,
   "id": "4ce9e153-1c83-4ba3-adbc-f008ee3863e7",
   "metadata": {},
   "outputs": [],
   "source": [
    "f = open(\"text.txt\",\"rt\")"
   ]
  },
  {
   "cell_type": "code",
   "execution_count": 32,
   "id": "8ae3545c-aedd-4e27-aaa3-277b6c11a458",
   "metadata": {},
   "outputs": [
    {
     "name": "stdout",
     "output_type": "stream",
     "text": [
      "Hello! Welcome to demofile.txt\n",
      "This file is for testing purposes.\n",
      "Good Luck!\n",
      "Hello Python\n"
     ]
    }
   ],
   "source": [
    "print(f.read())"
   ]
  },
  {
   "cell_type": "code",
   "execution_count": 36,
   "id": "2e967437-09d8-46e0-a113-8379dd6fff7f",
   "metadata": {},
   "outputs": [
    {
     "name": "stdout",
     "output_type": "stream",
     "text": [
      "Hel\n"
     ]
    }
   ],
   "source": [
    "f = open(\"text.txt\",\"rt\")\n",
    "print(f.read(3))"
   ]
  },
  {
   "cell_type": "code",
   "execution_count": 35,
   "id": "7b48e9ec-178c-4bb2-8c29-85140986c77a",
   "metadata": {},
   "outputs": [
    {
     "name": "stdout",
     "output_type": "stream",
     "text": [
      "Hello! Welcome to demofile.txt\n",
      "\n"
     ]
    }
   ],
   "source": [
    "f = open(\"text.txt\",\"rt\")\n",
    "print(f.readline())"
   ]
  },
  {
   "cell_type": "code",
   "execution_count": 37,
   "id": "286a2ac2-fbe3-4e2e-b35c-fba130254209",
   "metadata": {},
   "outputs": [
    {
     "name": "stdout",
     "output_type": "stream",
     "text": [
      "lo! Welcome to demofile.txt\n",
      "\n",
      "This file is for testing purposes.\n",
      "\n",
      "Good Luck!\n",
      "\n",
      "Hello Python\n"
     ]
    }
   ],
   "source": [
    "for x in f:\n",
    "    print(x)"
   ]
  },
  {
   "cell_type": "markdown",
   "id": "7f1f1544-2774-4f50-8b45-7cfcca8ff319",
   "metadata": {},
   "source": [
    "## Write/Create Files"
   ]
  },
  {
   "cell_type": "code",
   "execution_count": 25,
   "id": "8dbcc6cf-444a-4cc2-9c87-cb1a95893f5b",
   "metadata": {},
   "outputs": [
    {
     "data": {
      "text/plain": [
       "12"
      ]
     },
     "execution_count": 25,
     "metadata": {},
     "output_type": "execute_result"
    }
   ],
   "source": [
    "f = open(\"text.txt\",\"a\")\n",
    "f.write(\"Hello Python\")"
   ]
  },
  {
   "cell_type": "code",
   "execution_count": 28,
   "id": "75da1d95-4c62-4958-a13e-56da8cacc105",
   "metadata": {},
   "outputs": [
    {
     "name": "stdout",
     "output_type": "stream",
     "text": [
      "Hello! Welcome to demofile.txt\n",
      "This file is for testing purposes.\n",
      "Good Luck!\n",
      "Hello Python\n"
     ]
    }
   ],
   "source": [
    "f = open(\"text.txt\",\"r\")\n",
    "print(f.read())"
   ]
  },
  {
   "cell_type": "code",
   "execution_count": 43,
   "id": "7f6ce347-a331-4cf6-ab6c-3a51e4a2e438",
   "metadata": {},
   "outputs": [
    {
     "data": {
      "text/plain": [
       "18"
      ]
     },
     "execution_count": 43,
     "metadata": {},
     "output_type": "execute_result"
    }
   ],
   "source": [
    "x = open(\"text.txt\",\"w\")\n",
    "x.write(\"Fuck this shit men\")"
   ]
  },
  {
   "cell_type": "code",
   "execution_count": 44,
   "id": "088437cb-7f95-4a7a-9822-c7eede1d35e2",
   "metadata": {},
   "outputs": [
    {
     "name": "stdout",
     "output_type": "stream",
     "text": [
      "Fuck this shit men\n"
     ]
    }
   ],
   "source": [
    "f = open(\"text.txt\",\"r\")\n",
    "print(f.read())"
   ]
  },
  {
   "cell_type": "markdown",
   "id": "01d5c2d0-6788-4367-ae40-9a4845a60ca8",
   "metadata": {},
   "source": [
    "# Create a New File"
   ]
  },
  {
   "cell_type": "raw",
   "id": "d27699f3-f8ea-4628-9acf-b74fe8e27bd9",
   "metadata": {},
   "source": [
    "To create a new file in Python, use the open() method, with one of the following parameters:\n",
    "\"x\" - Create - will create a file, returns an error if the file exist\n",
    "\"a\" - Append - will create a file if the specified file does not exist\n",
    "\"w\" - Write - will create a file if the specified file does not exist"
   ]
  },
  {
   "cell_type": "code",
   "execution_count": 45,
   "id": "abadecee-ea95-4c4f-8722-03575d2b7081",
   "metadata": {},
   "outputs": [],
   "source": [
    "fp = open(\"file.sh\",\"x\")"
   ]
  },
  {
   "cell_type": "code",
   "execution_count": 59,
   "id": "ba410709-1e81-4f42-a946-2fda9a43414a",
   "metadata": {},
   "outputs": [],
   "source": [
    "fp= open(\"file.sh\",\"a\")"
   ]
  },
  {
   "cell_type": "code",
   "execution_count": 60,
   "id": "ca6bc8cb-b0d8-4b0d-b51a-50b66311794a",
   "metadata": {},
   "outputs": [
    {
     "data": {
      "text/plain": [
       "13"
      ]
     },
     "execution_count": 60,
     "metadata": {},
     "output_type": "execute_result"
    }
   ],
   "source": [
    "fp.write(\"Metric Tables\")"
   ]
  },
  {
   "cell_type": "code",
   "execution_count": 61,
   "id": "deb64dfa-5765-45fd-93b5-d81d341a2a9a",
   "metadata": {},
   "outputs": [],
   "source": [
    "f = open(\"file.sh\",\"r\")"
   ]
  },
  {
   "cell_type": "code",
   "execution_count": 62,
   "id": "078f7077-a3c6-4647-ba1d-28cf30ffd1fc",
   "metadata": {},
   "outputs": [
    {
     "name": "stdout",
     "output_type": "stream",
     "text": [
      "Metric Tables\n"
     ]
    }
   ],
   "source": [
    "print(f.read())"
   ]
  },
  {
   "cell_type": "code",
   "execution_count": 65,
   "id": "e2283680-e6dd-417d-8bb1-44701eae718f",
   "metadata": {},
   "outputs": [],
   "source": [
    "f.close()"
   ]
  },
  {
   "cell_type": "markdown",
   "id": "c17080f0-b943-497c-88e8-1e9bd91999f4",
   "metadata": {},
   "source": [
    "# Delete Files"
   ]
  },
  {
   "cell_type": "code",
   "execution_count": 66,
   "id": "ca22236c-23df-42f7-bcb7-843e286b0a4d",
   "metadata": {},
   "outputs": [],
   "source": [
    "import os"
   ]
  },
  {
   "cell_type": "code",
   "execution_count": null,
   "id": "419db062-467b-4969-ba4b-ac7d482a244e",
   "metadata": {},
   "outputs": [],
   "source": [
    "os.remove(\"tp.zh\")"
   ]
  },
  {
   "cell_type": "code",
   "execution_count": 73,
   "id": "f3f8e0a8-0505-4eab-99ea-03fa06fbe86f",
   "metadata": {},
   "outputs": [
    {
     "name": "stdout",
     "output_type": "stream",
     "text": [
      "The file does not exist\n"
     ]
    }
   ],
   "source": [
    "import os\n",
    "if os.path.exists(\"demofile.txt\"):\n",
    "  os.remove(\"demofile.txt\")\n",
    "else:\n",
    "  print(\"The file does not exist\")"
   ]
  },
  {
   "cell_type": "code",
   "execution_count": 74,
   "id": "70904558-aa21-4ee2-9007-da1d7999aa42",
   "metadata": {},
   "outputs": [
    {
     "ename": "FileNotFoundError",
     "evalue": "[WinError 2] The system cannot find the file specified: 'myfolder'",
     "output_type": "error",
     "traceback": [
      "\u001b[1;31m---------------------------------------------------------------------------\u001b[0m",
      "\u001b[1;31mFileNotFoundError\u001b[0m                         Traceback (most recent call last)",
      "Cell \u001b[1;32mIn[74], line 2\u001b[0m\n\u001b[0;32m      1\u001b[0m \u001b[38;5;28;01mimport\u001b[39;00m \u001b[38;5;21;01mos\u001b[39;00m\n\u001b[1;32m----> 2\u001b[0m \u001b[43mos\u001b[49m\u001b[38;5;241;43m.\u001b[39;49m\u001b[43mrmdir\u001b[49m\u001b[43m(\u001b[49m\u001b[38;5;124;43m\"\u001b[39;49m\u001b[38;5;124;43mmyfolder\u001b[39;49m\u001b[38;5;124;43m\"\u001b[39;49m\u001b[43m)\u001b[49m\n",
      "\u001b[1;31mFileNotFoundError\u001b[0m: [WinError 2] The system cannot find the file specified: 'myfolder'"
     ]
    }
   ],
   "source": [
    "import os\n",
    "os.rmdir(\"myfolder\")"
   ]
  },
  {
   "cell_type": "code",
   "execution_count": null,
   "id": "0dcc761a-92ab-4314-bb65-c216c72b87bb",
   "metadata": {},
   "outputs": [],
   "source": []
  }
 ],
 "metadata": {
  "kernelspec": {
   "display_name": "Python 3 (ipykernel)",
   "language": "python",
   "name": "python3"
  },
  "language_info": {
   "codemirror_mode": {
    "name": "ipython",
    "version": 3
   },
   "file_extension": ".py",
   "mimetype": "text/x-python",
   "name": "python",
   "nbconvert_exporter": "python",
   "pygments_lexer": "ipython3",
   "version": "3.10.0"
  }
 },
 "nbformat": 4,
 "nbformat_minor": 5
}
