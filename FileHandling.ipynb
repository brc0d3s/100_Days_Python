{
 "cells": [
  {
   "cell_type": "code",
   "execution_count": null,
   "id": "0f2a6fef-1c0d-4d3c-b762-6670895555f3",
   "metadata": {},
   "outputs": [],
   "source": []
  }
 ],
 "metadata": {
  "kernelspec": {
   "display_name": "",
   "name": ""
  },
  "language_info": {
   "name": ""
  }
 },
 "nbformat": 4,
 "nbformat_minor": 5
}
