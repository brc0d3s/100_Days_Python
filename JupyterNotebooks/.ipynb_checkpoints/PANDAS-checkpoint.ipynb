{
 "cells": [
  {
   "cell_type": "markdown",
   "id": "cb17eb97-1f75-4896-af8b-6d795d817ef6",
   "metadata": {},
   "source": [
    "# Pandas Learning notebook"
   ]
  },
  {
   "cell_type": "code",
   "execution_count": null,
   "id": "5fac2e8c-2721-4c3d-80ee-95a75a29d516",
   "metadata": {},
   "outputs": [],
   "source": []
  }
 ],
 "metadata": {
  "kernelspec": {
   "display_name": "Python 3 (ipykernel)",
   "language": "python",
   "name": "python3"
  },
  "language_info": {
   "codemirror_mode": {
    "name": "ipython",
    "version": 3
   },
   "file_extension": ".py",
   "mimetype": "text/x-python",
   "name": "python",
   "nbconvert_exporter": "python",
   "pygments_lexer": "ipython3",
   "version": "3.12.6"
  }
 },
 "nbformat": 4,
 "nbformat_minor": 5
}
