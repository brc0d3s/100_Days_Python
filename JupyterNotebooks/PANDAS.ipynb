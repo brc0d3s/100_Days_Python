{
 "cells": [
  {
   "cell_type": "markdown",
   "id": "cb17eb97-1f75-4896-af8b-6d795d817ef6",
   "metadata": {},
   "source": [
    "# Pandas Learning notebook"
   ]
  },
  {
   "cell_type": "markdown",
   "id": "a7d5c4ca-fc94-42c9-acab-26e124f7ca30",
   "metadata": {},
   "source": [
    "## What is Pandas?"
   ]
  },
  {
   "cell_type": "markdown",
   "id": "49809f9e-362e-4133-8350-d28476c9c379",
   "metadata": {},
   "source": [
    "Pandas is an open-source Python Library used for high-performance data manipulation and data analysis using its powerful data structures"
   ]
  },
  {
   "cell_type": "markdown",
   "id": "ac6f2617-5b23-4ce7-b2fd-eec2c8a4b556",
   "metadata": {},
   "source": [
    "## Key Features of Pandas"
   ]
  },
  {
   "cell_type": "markdown",
   "id": "b5331984-751f-43a6-ad8e-de42dfe2569c",
   "metadata": {},
   "source": [
    "1. Fast and efficient DataFrame object with default and customized indexing.\n",
    "2. Tools for loading data into in-memory data objects from different file formats.\n",
    "3. Data alignment and integrated handling of missing data.\n",
    "4. Reshaping and pivoting of date sets.\n",
    "5. Label-based slicing, indexing and subsetting of large data sets.\n",
    "6. Columns from a data structure can be deleted or inserted.\n",
    "7. Group by data for aggregation and transformations.\n",
    "8. High performance merging and joining of data.\n",
    "9. Time Series functionality."
   ]
  },
  {
   "cell_type": "markdown",
   "id": "08c41a83-4dd7-4734-8eb5-e1b2cdf78709",
   "metadata": {},
   "source": [
    "### Creating a dataframe using List:"
   ]
  },
  {
   "cell_type": "code",
   "execution_count": 2,
   "id": "0c77fb65-70e2-414e-8697-4adfdf99aa7b",
   "metadata": {},
   "outputs": [
    {
     "name": "stdout",
     "output_type": "stream",
     "text": [
      "         0\n",
      "0      JKL\n",
      "1     Tony\n",
      "2  Trinity\n",
      "3    Durov\n",
      "4  Turkwel\n"
     ]
    }
   ],
   "source": [
    "import pandas as pd\n",
    "\n",
    "name = [\"JKL\",\"Tony\",\"Trinity\",\"Durov\",\"Turkwel\"]\n",
    "\n",
    "df = pd.DataFrame(name)\n",
    "\n",
    "print(df)"
   ]
  },
  {
   "cell_type": "markdown",
   "id": "00881017-01fb-4b72-99d4-765b5ab32816",
   "metadata": {},
   "source": [
    "### Creating DataFrame from dict of ndarray/lists"
   ]
  },
  {
   "cell_type": "code",
   "execution_count": 6,
   "id": "d8d0b3a0-012d-4ace-9798-416110a10fe6",
   "metadata": {},
   "outputs": [
    {
     "name": "stdout",
     "output_type": "stream",
     "text": [
      "   names      IDS  Age\n",
      "0  Brian  1045858   20\n",
      "1  Tevin     7878   21\n",
      "2  Kairo      988   19\n"
     ]
    }
   ],
   "source": [
    "import pandas as pd\n",
    "\n",
    "data = {\n",
    "        \"names\" : [\"Brian\",\"Tevin\",\"Kairo\"],\n",
    "         \"IDS\" : [1045858,7878,988],\n",
    "         \"Age\":[20, 21, 19]\n",
    "}\n",
    "\n",
    "\n",
    "df = pd.DataFrame(data)\n",
    "\n",
    "print(df)"
   ]
  },
  {
   "cell_type": "markdown",
   "id": "d15e17b6-1765-4bb8-9f9c-89223bd052c1",
   "metadata": {},
   "source": [
    "#"
   ]
  },
  {
   "cell_type": "markdown",
   "id": "334fef4f-fbd7-445e-b4a2-15154deefdb8",
   "metadata": {},
   "source": [
    "## Dealing with Rows and Columns"
   ]
  },
  {
   "cell_type": "code",
   "execution_count": 10,
   "id": "91f2edc1-7b76-4e73-ae16-ebf42bca0ecb",
   "metadata": {},
   "outputs": [
    {
     "name": "stdout",
     "output_type": "stream",
     "text": [
      "     Name Qualification\n",
      "0     Jai           Msc\n",
      "1  Princi            MA\n",
      "2  Gaurav           MCA\n",
      "3    Anuj           Phd\n"
     ]
    }
   ],
   "source": [
    "import pandas as pd\n",
    " \n",
    "data = {'Name':['Jai', 'Princi', 'Gaurav', 'Anuj'],\n",
    "        'Age':[27, 24, 22, 32],\n",
    "        'Address':['Delhi', 'Kanpur', 'Allahabad', 'Kannauj'],\n",
    "        'Qualification':['Msc', 'MA', 'MCA', 'Phd']}\n",
    " \n",
    "df = pd.DataFrame(data)\n",
    "\n",
    "print(df[['Name','Qualification']])"
   ]
  },
  {
   "cell_type": "code",
   "execution_count": 14,
   "id": "e3b1bd4c-de8b-44ec-a108-187c8babdcaa",
   "metadata": {},
   "outputs": [
    {
     "name": "stdout",
     "output_type": "stream",
     "text": [
      "     Address\n",
      "0      Delhi\n",
      "1     Kanpur\n",
      "2  Allahabad\n",
      "3    Kannauj\n"
     ]
    }
   ],
   "source": [
    "print(df[['Address']])"
   ]
  },
  {
   "cell_type": "markdown",
   "id": "65a21f06-6e9f-49ea-ab31-83126fe50e1a",
   "metadata": {},
   "source": [
    "##"
   ]
  },
  {
   "cell_type": "markdown",
   "id": "6e8ed016-8d21-4d01-9310-ff3ab1307eb4",
   "metadata": {},
   "source": [
    "### Reading data from csv"
   ]
  },
  {
   "cell_type": "code",
   "execution_count": 16,
   "id": "df3ab8bf-0958-4047-9780-e662fad565e2",
   "metadata": {},
   "outputs": [
    {
     "name": "stdout",
     "output_type": "stream",
     "text": [
      "                         Team  Number Position   Age Height  Weight  \\\n",
      "Name                                                                  \n",
      "Avery Bradley  Boston Celtics     0.0       PG  25.0    6-2   180.0   \n",
      "Jae Crowder    Boston Celtics    99.0       SF  25.0    6-6   235.0   \n",
      "John Holland   Boston Celtics    30.0       SG  27.0    6-5   205.0   \n",
      "R.J. Hunter    Boston Celtics    28.0       SG  22.0    6-5   185.0   \n",
      "Jonas Jerebko  Boston Celtics     8.0       PF  29.0   6-10   231.0   \n",
      "...                       ...     ...      ...   ...    ...     ...   \n",
      "Shelvin Mack        Utah Jazz     8.0       PG  26.0    6-3   203.0   \n",
      "Raul Neto           Utah Jazz    25.0       PG  24.0    6-1   179.0   \n",
      "Tibor Pleiss        Utah Jazz    21.0        C  26.0    7-3   256.0   \n",
      "Jeff Withey         Utah Jazz    24.0        C  26.0    7-0   231.0   \n",
      "NaN                       NaN     NaN      NaN   NaN    NaN     NaN   \n",
      "\n",
      "                         College     Salary  \n",
      "Name                                         \n",
      "Avery Bradley              Texas  7730337.0  \n",
      "Jae Crowder            Marquette  6796117.0  \n",
      "John Holland   Boston University        NaN  \n",
      "R.J. Hunter        Georgia State  1148640.0  \n",
      "Jonas Jerebko                NaN  5000000.0  \n",
      "...                          ...        ...  \n",
      "Shelvin Mack              Butler  2433333.0  \n",
      "Raul Neto                    NaN   900000.0  \n",
      "Tibor Pleiss                 NaN  2900000.0  \n",
      "Jeff Withey               Kansas   947276.0  \n",
      "NaN                          NaN        NaN  \n",
      "\n",
      "[458 rows x 8 columns]\n"
     ]
    }
   ],
   "source": [
    "import pandas as pd\n",
    "\n",
    "data = pd.read_csv(\"nba.csv\",index_col=\"Name\")\n",
    "\n",
    "print(data)"
   ]
  },
  {
   "cell_type": "code",
   "execution_count": 18,
   "id": "9d739e11-8e32-4019-ba20-db3f2687e7db",
   "metadata": {},
   "outputs": [],
   "source": [
    "first = data.loc[\"R.J. Hunter\"]"
   ]
  },
  {
   "cell_type": "code",
   "execution_count": 19,
   "id": "bb13fcae-6a69-48d5-acef-9387122dec1f",
   "metadata": {},
   "outputs": [
    {
     "name": "stdout",
     "output_type": "stream",
     "text": [
      "Team        Boston Celtics\n",
      "Number                28.0\n",
      "Position                SG\n",
      "Age                   22.0\n",
      "Height                 6-5\n",
      "Weight               185.0\n",
      "College      Georgia State\n",
      "Salary           1148640.0\n",
      "Name: R.J. Hunter, dtype: object\n"
     ]
    }
   ],
   "source": [
    "print(first)"
   ]
  },
  {
   "cell_type": "markdown",
   "id": "87cbd3c7-eb86-4bd2-a468-c62501300112",
   "metadata": {},
   "source": [
    "#"
   ]
  },
  {
   "cell_type": "markdown",
   "id": "6c559fb1-ecb0-41e7-beea-00d90877fd4a",
   "metadata": {},
   "source": [
    "## Indexing and Selecting Data"
   ]
  },
  {
   "cell_type": "code",
   "execution_count": null,
   "id": "ba3ea7dd-d3c9-4ee2-9b38-20fb4b55ce13",
   "metadata": {},
   "outputs": [],
   "source": []
  }
 ],
 "metadata": {
  "kernelspec": {
   "display_name": "Python 3 (ipykernel)",
   "language": "python",
   "name": "python3"
  },
  "language_info": {
   "codemirror_mode": {
    "name": "ipython",
    "version": 3
   },
   "file_extension": ".py",
   "mimetype": "text/x-python",
   "name": "python",
   "nbconvert_exporter": "python",
   "pygments_lexer": "ipython3",
   "version": "3.12.6"
  }
 },
 "nbformat": 4,
 "nbformat_minor": 5
}
