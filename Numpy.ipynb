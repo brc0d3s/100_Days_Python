{
 "cells": [
  {
   "cell_type": "markdown",
   "id": "540a468e-0127-442d-ba14-1040f69e746e",
   "metadata": {},
   "source": [
    "# What is NumPy?"
   ]
  },
  {
   "cell_type": "raw",
   "id": "97169c66-65f5-4846-b2b9-b621ec806d2b",
   "metadata": {},
   "source": [
    "NumPy is a Python library used for working with arrays.\n",
    "\n",
    "It also has functions for working in domain of linear algebra, fourier transform, and matrices."
   ]
  },
  {
   "cell_type": "code",
   "execution_count": null,
   "id": "d11c1cab-ad26-4984-b705-1afb34aca771",
   "metadata": {},
   "outputs": [],
   "source": [
    "import numpy as np"
   ]
  },
  {
   "cell_type": "code",
   "execution_count": 4,
   "id": "4bb6e84b-dd1d-4103-a5f1-fb86f7d8f039",
   "metadata": {},
   "outputs": [
    {
     "name": "stdout",
     "output_type": "stream",
     "text": [
      "2.1.3\n"
     ]
    }
   ],
   "source": [
    "print(np.__version__)"
   ]
  },
  {
   "cell_type": "markdown",
   "id": "7bafa154-b6cd-486b-b910-42e5dd297280",
   "metadata": {},
   "source": [
    "## NumPy Creating Arrays"
   ]
  },
  {
   "cell_type": "code",
   "execution_count": 6,
   "id": "6026f0b9-aaa7-4321-a5a8-1afb0a1db50b",
   "metadata": {},
   "outputs": [
    {
     "name": "stdout",
     "output_type": "stream",
     "text": [
      "[12 45 67 89]\n",
      "<class 'numpy.ndarray'>\n"
     ]
    }
   ],
   "source": [
    "nd = np.array([12,45,67,89])\n",
    "print(nd)\n",
    "print(type(nd))"
   ]
  },
  {
   "cell_type": "raw",
   "id": "65914223-1626-4f0b-b38e-81d71ce14b9f",
   "metadata": {},
   "source": [
    " To create an ndarray, we can pass a list, tuple or any array-like object into the array() method, and it will be converted into an ndarray:"
   ]
  },
  {
   "cell_type": "code",
   "execution_count": 7,
   "id": "311196ae-7d41-4989-8d26-1d036881eb35",
   "metadata": {},
   "outputs": [
    {
     "name": "stdout",
     "output_type": "stream",
     "text": [
      "[1 2 3 4 5]\n"
     ]
    }
   ],
   "source": [
    "import numpy as np\n",
    "\n",
    "arr = np.array((1, 2, 3, 4, 5))\n",
    "\n",
    "print(arr)"
   ]
  },
  {
   "cell_type": "raw",
   "id": "6c2284d4-3b42-4668-b50e-f5aacfebf958",
   "metadata": {},
   "source": [
    "NumPy Arrays provides the ndim attribute that returns an integer that tells us how many dimensions the array have."
   ]
  },
  {
   "cell_type": "code",
   "execution_count": 8,
   "id": "38dab0bd-5b7d-4904-97ea-b32809f18144",
   "metadata": {},
   "outputs": [
    {
     "name": "stdout",
     "output_type": "stream",
     "text": [
      "0\n",
      "1\n",
      "2\n",
      "3\n"
     ]
    }
   ],
   "source": [
    "a = np.array(42)\n",
    "b = np.array([1, 2, 3, 4, 5])\n",
    "c = np.array([[1, 2, 3], [4, 5, 6]])\n",
    "d = np.array([[[1, 2, 3], [4, 5, 6]], [[1, 2, 3], [4, 5, 6]]])\n",
    "\n",
    "print(a.ndim)\n",
    "print(b.ndim)\n",
    "print(c.ndim)\n",
    "print(d.ndim)"
   ]
  },
  {
   "cell_type": "raw",
   "id": "5da9a6d5-a701-4f78-ab1c-58c6e3d5e457",
   "metadata": {},
   "source": [
    "When the array is created, you can define the number of dimensions by using the ndmin argument."
   ]
  },
  {
   "cell_type": "code",
   "execution_count": 9,
   "id": "6c016b27-8b26-425d-beec-137cadb4f25d",
   "metadata": {},
   "outputs": [
    {
     "name": "stdout",
     "output_type": "stream",
     "text": [
      "[[[[[1 2 3 4]]]]]\n",
      "number of dimensions : 5\n"
     ]
    }
   ],
   "source": [
    "arr = np.array([1, 2, 3, 4], ndmin=5)\n",
    "\n",
    "print(arr)\n",
    "print('number of dimensions :', arr.ndim)"
   ]
  },
  {
   "cell_type": "code",
   "execution_count": null,
   "id": "a5eb211e-ce64-44a2-ad7f-d6aab1d76945",
   "metadata": {},
   "outputs": [],
   "source": []
  }
 ],
 "metadata": {
  "kernelspec": {
   "display_name": "Python 3 (ipykernel)",
   "language": "python",
   "name": "python3"
  },
  "language_info": {
   "codemirror_mode": {
    "name": "ipython",
    "version": 3
   },
   "file_extension": ".py",
   "mimetype": "text/x-python",
   "name": "python",
   "nbconvert_exporter": "python",
   "pygments_lexer": "ipython3",
   "version": "3.10.0"
  }
 },
 "nbformat": 4,
 "nbformat_minor": 5
}
