{
 "cells": [
  {
   "cell_type": "code",
   "execution_count": null,
   "id": "203a09bb-cb15-4276-b787-2136d142436e",
   "metadata": {},
   "outputs": [],
   "source": []
  }
 ],
 "metadata": {
  "kernelspec": {
   "display_name": "",
   "name": ""
  },
  "language_info": {
   "name": ""
  }
 },
 "nbformat": 4,
 "nbformat_minor": 5
}
