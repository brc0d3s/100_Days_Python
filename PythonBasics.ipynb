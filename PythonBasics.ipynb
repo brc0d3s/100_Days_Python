{
 "cells": [
  {
   "cell_type": "markdown",
   "id": "93217e26-588c-49f6-b1de-612b5bb9de50",
   "metadata": {},
   "source": [
    "## Data Types"
   ]
  },
  {
   "cell_type": "raw",
   "id": "68a2ca00-bbe0-47c0-ae2b-1be50a09b584",
   "metadata": {},
   "source": [
    "Text Type:\tstr\n",
    "Numeric Types:\tint, float, complex\n",
    "Sequence Types:\tlist, tuple, range\n",
    "Mapping Type:\tdict\n",
    "Set Types:\tset, frozenset\n",
    "Boolean Type:\tbool\n",
    "Binary Types:\tbytes, bytearray, memoryview\n",
    "None Type:\tNoneType"
   ]
  },
  {
   "cell_type": "markdown",
   "id": "cc9057ac-ae0d-4a30-9ffd-13f42b4f5c46",
   "metadata": {},
   "source": [
    "## Control Flow"
   ]
  },
  {
   "cell_type": "code",
   "execution_count": 16,
   "id": "1b9f2b33-a50c-42dd-9953-9e80bc2ea43c",
   "metadata": {},
   "outputs": [
    {
     "name": "stdout",
     "output_type": "stream",
     "text": [
      "b is greater than a\n"
     ]
    }
   ],
   "source": [
    "a = 33\n",
    "b = 200\n",
    "if b > a:\n",
    " print(\"b is greater than a\")"
   ]
  },
  {
   "cell_type": "code",
   "execution_count": 17,
   "id": "8da31589-39ad-4fb9-9dd1-dfe82a853a77",
   "metadata": {},
   "outputs": [
    {
     "name": "stdout",
     "output_type": "stream",
     "text": [
      "a and b are equal\n"
     ]
    }
   ],
   "source": [
    "a = 33\n",
    "b = 33\n",
    "if b > a:\n",
    " print(\"b is greater than a\")\n",
    "elif a == b:\n",
    " print(\"a and b are equal\")"
   ]
  },
  {
   "cell_type": "code",
   "execution_count": 18,
   "id": "1265f14b-31ca-48bc-89a1-d376a5176000",
   "metadata": {},
   "outputs": [
    {
     "name": "stdout",
     "output_type": "stream",
     "text": [
      "a is greater than b\n"
     ]
    }
   ],
   "source": [
    "a = 200\n",
    "b = 33\n",
    "if b > a:\n",
    " print(\"b is greater than a\")\n",
    "elif a == b:\n",
    " print(\"a and b are equal\")\n",
    "else:\n",
    " print(\"a is greater than b\")"
   ]
  },
  {
   "cell_type": "code",
   "execution_count": 19,
   "id": "7875463c-641f-4162-9927-1048a53f675c",
   "metadata": {},
   "outputs": [
    {
     "name": "stdout",
     "output_type": "stream",
     "text": [
      "apple\n",
      "banana\n",
      "cherry\n"
     ]
    }
   ],
   "source": [
    "fruits = [\"apple\", \"banana\", \"cherry\"]\n",
    "for x in fruits:\n",
    " print(x)"
   ]
  },
  {
   "cell_type": "code",
   "execution_count": 22,
   "id": "e4bbed2a-26cd-4465-b464-0a39f2d72475",
   "metadata": {},
   "outputs": [
    {
     "name": "stdout",
     "output_type": "stream",
     "text": [
      "apple\n",
      "banana\n"
     ]
    }
   ],
   "source": [
    "fruits = [\"apple\", \"banana\", \"cherry\"]\n",
    "for x in fruits:\n",
    "  print(x)\n",
    "  if x == \"banana\":\n",
    "   break"
   ]
  },
  {
   "cell_type": "code",
   "execution_count": 25,
   "id": "c93ae3e2-5cd6-4734-ba08-3f9090f5fc8c",
   "metadata": {},
   "outputs": [],
   "source": [
    "fruits = [\"apple\", \"banana\", \"cherry\"]\n",
    "for x in fruits:\n",
    " if x == \"banana\":\n",
    "  continue\n",
    "  print(x)"
   ]
  },
  {
   "cell_type": "code",
   "execution_count": null,
   "id": "19c35e62-d6c1-4d89-a4ac-c108bab16835",
   "metadata": {},
   "outputs": [],
   "source": []
  },
  {
   "cell_type": "markdown",
   "id": "988f0d7d-cf89-4f28-bb39-d29d119e507a",
   "metadata": {},
   "source": [
    "## Functions"
   ]
  },
  {
   "cell_type": "code",
   "execution_count": 1,
   "id": "7ecf6232-abed-4990-a4bc-e1a791bcb9e3",
   "metadata": {},
   "outputs": [
    {
     "name": "stdout",
     "output_type": "stream",
     "text": [
      "Emil Refsnes\n",
      "Tobias Refsnes\n",
      "Linus Refsnes\n"
     ]
    }
   ],
   "source": [
    "def my_function(fname):\n",
    "  print(fname + \" Refsnes\")\n",
    "\n",
    "my_function(\"Emil\")\n",
    "my_function(\"Tobias\")\n",
    "my_function(\"Linus\")"
   ]
  },
  {
   "cell_type": "raw",
   "id": "2ee02400-d1d6-4978-b9b0-f5d7a1a9263d",
   "metadata": {},
   "source": [
    "A parameter is the variable listed inside the parentheses in the function definition.\n",
    "An argument is the value that is sent to the function when it is called."
   ]
  },
  {
   "cell_type": "code",
   "execution_count": 2,
   "id": "49df0870-ea13-4326-8847-496cf84c96f6",
   "metadata": {},
   "outputs": [
    {
     "name": "stdout",
     "output_type": "stream",
     "text": [
      "The youngest child is Linus\n"
     ]
    }
   ],
   "source": [
    "def my_function(*kids):\n",
    "  print(\"The youngest child is \" + kids[2])\n",
    "\n",
    "my_function(\"Emil\", \"Tobias\", \"Linus\")\n"
   ]
  },
  {
   "cell_type": "code",
   "execution_count": null,
   "id": "b05df81f-836e-4b38-88ea-1a5f0477f3eb",
   "metadata": {},
   "outputs": [],
   "source": []
  },
  {
   "cell_type": "markdown",
   "id": "0d0b8282-7d31-429c-ba4b-9177f64f5dcb",
   "metadata": {},
   "source": [
    "## Arrays"
   ]
  },
  {
   "cell_type": "code",
   "execution_count": 11,
   "id": "cc0547b4-6740-41b1-9f58-3a618e8ddd6b",
   "metadata": {},
   "outputs": [
    {
     "name": "stdout",
     "output_type": "stream",
     "text": [
      "Subaru\n",
      "BMW\n",
      "Subaru\n",
      "V8\n",
      "Voxy\n",
      "<class 'list'>\n"
     ]
    }
   ],
   "source": [
    "cars = [\"BMW\",\"Volvo\",\"Subaru\",\"V8\"]\n",
    "\n",
    "\n",
    "print(cars[2])\n",
    "cars.append(\"Voxy\")\n",
    "cars.pop(1)\n",
    "\n",
    "\n",
    "for car in cars:\n",
    "    print(car)\n",
    "\n",
    "print(type(cars))"
   ]
  },
  {
   "cell_type": "markdown",
   "id": "449d78ae-e489-49c7-ba01-5b40518ec8e3",
   "metadata": {},
   "source": [
    "# Lists"
   ]
  },
  {
   "cell_type": "code",
   "execution_count": 10,
   "id": "d85e519e-c253-4fb2-8ca8-1a070bdaff9f",
   "metadata": {},
   "outputs": [
    {
     "name": "stdout",
     "output_type": "stream",
     "text": [
      "['apple', 'banana', 'cherry']\n",
      "['abc', 34, True, 40, 'male']\n"
     ]
    }
   ],
   "source": [
    "thislist = [\"apple\", \"banana\", \"cherry\"]\n",
    "list1 = [\"abc\", 34, True, 40, \"male\"]\n",
    "print(thislist)\n",
    "print(list1)"
   ]
  },
  {
   "cell_type": "markdown",
   "id": "55610acb-f5a6-4530-afda-7df2174ab3c0",
   "metadata": {},
   "source": [
    "# Tuples"
   ]
  },
  {
   "cell_type": "code",
   "execution_count": 12,
   "id": "8f4e254f-2b9d-43e8-9b03-b6b6d8cde751",
   "metadata": {},
   "outputs": [
    {
     "name": "stdout",
     "output_type": "stream",
     "text": [
      "('apple', 'banana', 'cherry', 'apple', 'cherry')\n"
     ]
    }
   ],
   "source": [
    "thistuple = (\"apple\", \"banana\", \"cherry\", \"apple\", \"cherry\")\n",
    "print(thistuple)"
   ]
  },
  {
   "cell_type": "markdown",
   "id": "22912715-60b2-4692-a5e3-10384b9af118",
   "metadata": {},
   "source": [
    "# Set"
   ]
  },
  {
   "cell_type": "code",
   "execution_count": 13,
   "id": "5bcd1e04-c0e4-4d82-a1b2-411f1ebbce48",
   "metadata": {},
   "outputs": [
    {
     "name": "stdout",
     "output_type": "stream",
     "text": [
      "{'banana', 'apple', 'cherry'}\n"
     ]
    }
   ],
   "source": [
    "thisset = {\"apple\", \"banana\", \"cherry\"}\n",
    "print(thisset)"
   ]
  },
  {
   "cell_type": "markdown",
   "id": "5262426c-19bd-40c1-9064-ae93ee724529",
   "metadata": {},
   "source": [
    "# Dictionary"
   ]
  },
  {
   "cell_type": "code",
   "execution_count": 14,
   "id": "0e157ec3-edd3-4e3a-bbdb-288bf99b82a8",
   "metadata": {},
   "outputs": [
    {
     "name": "stdout",
     "output_type": "stream",
     "text": [
      "{'brand': 'Ford', 'model': 'Mustang', 'year': 1964}\n"
     ]
    }
   ],
   "source": [
    "thisdict = {\n",
    " \"brand\": \"Ford\",\n",
    " \"model\": \"Mustang\",\n",
    " \"year\": 1964\n",
    "}\n",
    "print(thisdict)"
   ]
  },
  {
   "cell_type": "code",
   "execution_count": null,
   "id": "b0efe101-1c00-43dc-8548-2e0ff5e1c13d",
   "metadata": {},
   "outputs": [],
   "source": []
  },
  {
   "cell_type": "code",
   "execution_count": null,
   "id": "31b0ea7d-8b77-4354-98f5-bdcf3ef1dc2b",
   "metadata": {},
   "outputs": [],
   "source": []
  },
  {
   "cell_type": "markdown",
   "id": "92971a94-edef-41be-ae38-b7457e22cdb9",
   "metadata": {},
   "source": [
    "# OOP"
   ]
  },
  {
   "cell_type": "markdown",
   "id": "dc94b14c-79b2-4fd0-abc2-2a42059f9ce6",
   "metadata": {},
   "source": [
    "## Classes and Objects"
   ]
  },
  {
   "cell_type": "code",
   "execution_count": 3,
   "id": "67bdd96f-c081-4601-9702-eddd8c5b8b82",
   "metadata": {},
   "outputs": [
    {
     "name": "stdout",
     "output_type": "stream",
     "text": [
      "white\n",
      "PitBull\n"
     ]
    }
   ],
   "source": [
    "class Dog:\n",
    " color = \"white\"\n",
    " breed = \"PitBull\"\n",
    "c = Dog()\n",
    "\n",
    "print(c.color)\n",
    "print(c.breed)"
   ]
  },
  {
   "cell_type": "code",
   "execution_count": null,
   "id": "660ddd26-0250-4513-acd9-d2baf28116b9",
   "metadata": {},
   "outputs": [],
   "source": []
  },
  {
   "cell_type": "markdown",
   "id": "8cce5ea6-1fd8-4eee-9f90-35276265b183",
   "metadata": {},
   "source": [
    "# Review Questions"
   ]
  },
  {
   "cell_type": "code",
   "execution_count": 3,
   "id": "38498929-8ffd-4904-b1b1-48e9b359073f",
   "metadata": {},
   "outputs": [
    {
     "name": "stdout",
     "output_type": "stream",
     "text": [
      "36180\n"
     ]
    }
   ],
   "source": [
    "# Write a function that accepts three values and return their product\n",
    "\n",
    "def multFunct(var1,var2,var3):\n",
    "    return var1 * var2 * var3\n",
    "\n",
    "print(multFunct(12,45,67))"
   ]
  },
  {
   "cell_type": "code",
   "execution_count": 5,
   "id": "54bb46af-a778-461e-9fc2-a2aeece28707",
   "metadata": {},
   "outputs": [
    {
     "name": "stdout",
     "output_type": "stream",
     "text": [
      "Name : Brian\n",
      "Age : 45\n"
     ]
    }
   ],
   "source": [
    "# Create a class named Person, use the __init__() function to assign values for name and age\n",
    "\n",
    "class Person:\n",
    "    def __init__(self,name,age):\n",
    "        self.name = name\n",
    "        self.age = age\n",
    "\n",
    "p1 = Person(\"Brian\",45)\n",
    "\n",
    "print(f\"Name : {p1.name}\")\n",
    "print(f\"Age : {p1.age}\")"
   ]
  },
  {
   "cell_type": "code",
   "execution_count": 15,
   "id": "d74b2a49-657b-4f6e-b043-07834b9411d8",
   "metadata": {},
   "outputs": [
    {
     "name": "stdout",
     "output_type": "stream",
     "text": [
      "Original string:  Hello, Python! \n",
      "Strip: Hello, Python!\n",
      "Uppercase:  HELLO, PYTHON! \n",
      "Lowercase:  hello, python! \n",
      "Replace 'Python' with 'World':  Hello, World! \n",
      "Starts with ' Hello': True\n",
      "Ends with '!': False\n",
      "Split by comma: [' Hello', ' Python! ']\n",
      "Join with spaces: Join these words\n",
      "Position of 'Python': 8\n",
      "Count of 'o': 2\n",
      "Is alphanumeric: False\n",
      "Is alphabetic: False\n",
      "Is digit: True\n",
      "Swap case:  hELLO, pYTHON! \n",
      "Title case:  Hello, Python! \n"
     ]
    }
   ],
   "source": [
    "# Write a program that demonstrates various string methods.\n",
    "\n",
    "\n",
    "# String initialization\n",
    "text = \" Hello, Python! \"\n",
    "\n",
    "# Demonstrating various string methods\n",
    "print(\"Original string:\", text)\n",
    "\n",
    "# Strip whitespace from the start and end\n",
    "print(\"Strip:\", text.strip())\n",
    "\n",
    "# Convert to uppercase\n",
    "print(\"Uppercase:\", text.upper())\n",
    "\n",
    "# Convert to lowercase\n",
    "print(\"Lowercase:\", text.lower())\n",
    "\n",
    "# Replace a substring\n",
    "print(\"Replace 'Python' with 'World':\", text.replace(\"Python\", \"World\"))\n",
    "\n",
    "# Check if the string starts with a specific substring\n",
    "print(\"Starts with ' Hello':\", text.startswith(\" Hello\"))\n",
    "\n",
    "# Check if the string ends with a specific substring\n",
    "print(\"Ends with '!':\", text.endswith(\"!\"))\n",
    "\n",
    "# Split the string into a list\n",
    "print(\"Split by comma:\", text.split(\",\"))\n",
    "\n",
    "# Join a list of strings into one string\n",
    "words = [\"Join\", \"these\", \"words\"]\n",
    "print(\"Join with spaces:\", \" \".join(words))\n",
    "\n",
    "# Find the position of a substring\n",
    "print(\"Position of 'Python':\", text.find(\"Python\"))\n",
    "\n",
    "# Count occurrences of a substring\n",
    "print(\"Count of 'o':\", text.count(\"o\"))\n",
    "\n",
    "# Check if all characters are alphanumeric\n",
    "print(\"Is alphanumeric:\", text.isalnum())\n",
    "\n",
    "# Check if all characters are alphabetic\n",
    "print(\"Is alphabetic:\", text.isalpha())\n",
    "\n",
    "# Check if all characters are digits\n",
    "print(\"Is digit:\", \"12345\".isdigit())\n",
    "\n",
    "# Swap case\n",
    "print(\"Swap case:\", text.swapcase())\n",
    "\n",
    "# Title case\n",
    "print(\"Title case:\", text.title())\n"
   ]
  },
  {
   "cell_type": "code",
   "execution_count": 35,
   "id": "60b6d59d-6239-4c71-b49a-4d3326e7a272",
   "metadata": {},
   "outputs": [
    {
     "name": "stdin",
     "output_type": "stream",
     "text": [
      "Enter your marks:  78\n"
     ]
    },
    {
     "name": "stdout",
     "output_type": "stream",
     "text": [
      "Your Grade is: A\n"
     ]
    }
   ],
   "source": [
    "#Write a Python program that displays the grade give total marks using below grading system\n",
    "'''Marks Grade\n",
    "70 and Above A\n",
    "60-69 B\n",
    "50-59 C\n",
    "40-49 D\n",
    "0-39 E'''\n",
    "\n",
    "def getGrade(m):\n",
    "    if 70 <= m <= 100:\n",
    "        grade = \"A\"\n",
    "    elif 60 <= m <= 69:\n",
    "        grade = \"B\"\n",
    "    elif 50 <= m <= 59:\n",
    "        grade = \"C\"\n",
    "    elif 40 <= m <= 49:\n",
    "        grade = \"D\"\n",
    "    elif 0 <= m <= 39:\n",
    "        grade = \"E\"\n",
    "    else:\n",
    "        grade = \"Invalid\"\n",
    "    return grade  \n",
    "\n",
    "# Input from the user\n",
    "marks = int(input(\"Enter your marks: \"))\n",
    "grade = getGrade(marks) \n",
    "print(f\"Your Grade is: {grade}\")"
   ]
  },
  {
   "cell_type": "code",
   "execution_count": 39,
   "id": "1c30262c-0e79-4ce8-9ed8-36673c6a1e6d",
   "metadata": {},
   "outputs": [
    {
     "name": "stdout",
     "output_type": "stream",
     "text": [
      "50\n",
      "48\n",
      "46\n",
      "44\n",
      "42\n",
      "40\n",
      "38\n",
      "36\n",
      "34\n",
      "32\n",
      "30\n",
      "28\n",
      "26\n",
      "24\n",
      "22\n",
      "20\n",
      "18\n",
      "16\n",
      "14\n",
      "12\n",
      "10\n"
     ]
    }
   ],
   "source": [
    "# Write a program to display even numbers from 50 down to 10 using for loop.\n",
    "\n",
    "for i in range(50,9,-2):\n",
    "        print(i)\n",
    "        "
   ]
  },
  {
   "cell_type": "code",
   "execution_count": null,
   "id": "d669a059-1761-4a70-9e89-d1f7187b90cd",
   "metadata": {},
   "outputs": [],
   "source": [
    "# . Convert the program in 2 above to use while loop and skip numbers 42 and 40."
   ]
  }
 ],
 "metadata": {
  "kernelspec": {
   "display_name": "Python 3 (ipykernel)",
   "language": "python",
   "name": "python3"
  },
  "language_info": {
   "codemirror_mode": {
    "name": "ipython",
    "version": 3
   },
   "file_extension": ".py",
   "mimetype": "text/x-python",
   "name": "python",
   "nbconvert_exporter": "python",
   "pygments_lexer": "ipython3",
   "version": "3.10.0"
  }
 },
 "nbformat": 4,
 "nbformat_minor": 5
}
