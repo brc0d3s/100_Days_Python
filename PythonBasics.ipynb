{
 "cells": [
  {
   "cell_type": "markdown",
   "id": "93217e26-588c-49f6-b1de-612b5bb9de50",
   "metadata": {},
   "source": [
    "## Data Types"
   ]
  },
  {
   "cell_type": "raw",
   "id": "68a2ca00-bbe0-47c0-ae2b-1be50a09b584",
   "metadata": {},
   "source": [
    "Text Type:\tstr\n",
    "Numeric Types:\tint, float, complex\n",
    "Sequence Types:\tlist, tuple, range\n",
    "Mapping Type:\tdict\n",
    "Set Types:\tset, frozenset\n",
    "Boolean Type:\tbool\n",
    "Binary Types:\tbytes, bytearray, memoryview\n",
    "None Type:\tNoneType"
   ]
  },
  {
   "cell_type": "code",
   "execution_count": null,
   "id": "5651ae4c-9968-464d-b688-59407de53295",
   "metadata": {},
   "outputs": [],
   "source": []
  },
  {
   "cell_type": "code",
   "execution_count": null,
   "id": "1b9f2b33-a50c-42dd-9953-9e80bc2ea43c",
   "metadata": {},
   "outputs": [],
   "source": []
  },
  {
   "cell_type": "markdown",
   "id": "988f0d7d-cf89-4f28-bb39-d29d119e507a",
   "metadata": {},
   "source": [
    "## Functions"
   ]
  },
  {
   "cell_type": "code",
   "execution_count": 1,
   "id": "7ecf6232-abed-4990-a4bc-e1a791bcb9e3",
   "metadata": {},
   "outputs": [
    {
     "name": "stdout",
     "output_type": "stream",
     "text": [
      "Emil Refsnes\n",
      "Tobias Refsnes\n",
      "Linus Refsnes\n"
     ]
    }
   ],
   "source": [
    "def my_function(fname):\n",
    "  print(fname + \" Refsnes\")\n",
    "\n",
    "my_function(\"Emil\")\n",
    "my_function(\"Tobias\")\n",
    "my_function(\"Linus\")"
   ]
  },
  {
   "cell_type": "raw",
   "id": "2ee02400-d1d6-4978-b9b0-f5d7a1a9263d",
   "metadata": {},
   "source": [
    "A parameter is the variable listed inside the parentheses in the function definition.\n",
    "An argument is the value that is sent to the function when it is called."
   ]
  },
  {
   "cell_type": "code",
   "execution_count": 2,
   "id": "49df0870-ea13-4326-8847-496cf84c96f6",
   "metadata": {},
   "outputs": [
    {
     "name": "stdout",
     "output_type": "stream",
     "text": [
      "The youngest child is Linus\n"
     ]
    }
   ],
   "source": [
    "def my_function(*kids):\n",
    "  print(\"The youngest child is \" + kids[2])\n",
    "\n",
    "my_function(\"Emil\", \"Tobias\", \"Linus\")\n"
   ]
  },
  {
   "cell_type": "code",
   "execution_count": null,
   "id": "b05df81f-836e-4b38-88ea-1a5f0477f3eb",
   "metadata": {},
   "outputs": [],
   "source": []
  },
  {
   "cell_type": "markdown",
   "id": "0d0b8282-7d31-429c-ba4b-9177f64f5dcb",
   "metadata": {},
   "source": [
    "## Arrays"
   ]
  },
  {
   "cell_type": "code",
   "execution_count": null,
   "id": "cc0547b4-6740-41b1-9f58-3a618e8ddd6b",
   "metadata": {},
   "outputs": [],
   "source": []
  },
  {
   "cell_type": "markdown",
   "id": "92971a94-edef-41be-ae38-b7457e22cdb9",
   "metadata": {},
   "source": [
    "# OOP"
   ]
  },
  {
   "cell_type": "markdown",
   "id": "dc94b14c-79b2-4fd0-abc2-2a42059f9ce6",
   "metadata": {},
   "source": [
    "## Classes and Objects"
   ]
  },
  {
   "cell_type": "code",
   "execution_count": 3,
   "id": "67bdd96f-c081-4601-9702-eddd8c5b8b82",
   "metadata": {},
   "outputs": [
    {
     "name": "stdout",
     "output_type": "stream",
     "text": [
      "white\n",
      "PitBull\n"
     ]
    }
   ],
   "source": [
    "class Dog:\n",
    " color = \"white\"\n",
    " breed = \"PitBull\"\n",
    "c = Dog()\n",
    "\n",
    "print(c.color)\n",
    "print(c.breed)"
   ]
  },
  {
   "cell_type": "code",
   "execution_count": null,
   "id": "660ddd26-0250-4513-acd9-d2baf28116b9",
   "metadata": {},
   "outputs": [],
   "source": []
  }
 ],
 "metadata": {
  "kernelspec": {
   "display_name": "Python 3 (ipykernel)",
   "language": "python",
   "name": "python3"
  },
  "language_info": {
   "codemirror_mode": {
    "name": "ipython",
    "version": 3
   },
   "file_extension": ".py",
   "mimetype": "text/x-python",
   "name": "python",
   "nbconvert_exporter": "python",
   "pygments_lexer": "ipython3",
   "version": "3.10.0"
  }
 },
 "nbformat": 4,
 "nbformat_minor": 5
}
