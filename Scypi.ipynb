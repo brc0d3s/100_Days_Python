{
 "cells": [
  {
   "cell_type": "markdown",
   "id": "4b49fb06-777c-4f7b-8e9e-3e10ba7bb9e0",
   "metadata": {},
   "source": [
    "# SciPy"
   ]
  },
  {
   "cell_type": "raw",
   "id": "ca83a110-da14-4280-baf3-62914421dbb7",
   "metadata": {},
   "source": [
    "SciPy is a scientific computation library that uses NumPy underneath. \n",
    "SciPy stands for Scientific Python.\n",
    "It provides more utility functions for optimization, stats and signal processing. \n",
    "Like NumPy, SciPy is open source so we can use it freely. \n",
    "SciPy was created by NumPy's creator Travis Olliphant.\n",
    "SciPy has optimized and added functions that are frequently used in NumPy and Data Science."
   ]
  },
  {
   "cell_type": "code",
   "execution_count": 1,
   "id": "a4effac1-397d-4272-9028-b926faf1bc2d",
   "metadata": {},
   "outputs": [],
   "source": [
    "import scipy as sc"
   ]
  },
  {
   "cell_type": "code",
   "execution_count": null,
   "id": "b5f20b0f-cbf7-400c-ba37-f10a84a9208e",
   "metadata": {},
   "outputs": [],
   "source": []
  }
 ],
 "metadata": {
  "kernelspec": {
   "display_name": "Python 3 (ipykernel)",
   "language": "python",
   "name": "python3"
  },
  "language_info": {
   "codemirror_mode": {
    "name": "ipython",
    "version": 3
   },
   "file_extension": ".py",
   "mimetype": "text/x-python",
   "name": "python",
   "nbconvert_exporter": "python",
   "pygments_lexer": "ipython3",
   "version": "3.10.0"
  }
 },
 "nbformat": 4,
 "nbformat_minor": 5
}
