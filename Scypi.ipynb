{
 "cells": [
  {
   "cell_type": "code",
   "execution_count": null,
   "id": "fbd7d6af-aa93-4911-ad42-0b325fe419ec",
   "metadata": {},
   "outputs": [],
   "source": []
  }
 ],
 "metadata": {
  "kernelspec": {
   "display_name": "",
   "name": ""
  },
  "language_info": {
   "name": ""
  }
 },
 "nbformat": 4,
 "nbformat_minor": 5
}
